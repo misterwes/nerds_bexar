{
 "cells": [
  {
   "attachments": {},
   "cell_type": "markdown",
   "metadata": {},
   "source": [
    "# NERDS Data Analysis with Python and Pandas"
   ]
  },
  {
   "cell_type": "code",
   "execution_count": 30,
   "metadata": {},
   "outputs": [],
   "source": [
    "import pandas as pd\n",
    "import numpy as np"
   ]
  },
  {
   "attachments": {},
   "cell_type": "markdown",
   "metadata": {},
   "source": [
    "This project is intended to gauge whether there are funding discrepancies within Bexar County Independent School Districts when it comes to per-pupil spending and economic disadvantage rates. If a discrepancy is detected (low correlation coefficient…threshold TBD…or there are outlier schools on the resulting scatterplot, we can work with an education reporter to investigate further. <br>\n",
    "The data come from two sources: \n",
    "- The NERD$ data come from Georgetown University's [National Education Resource Database on School Spending Organization](https://georgetown.app.box.com/s/1dknmu4bjltrehzdygh63xnzebcki4ni/file/1060770984817) and represent the 2018-2019 academic year. <br>\n",
    "- The Economic Disadvantage Data comes from [Square Meals.org](https://data.texas.gov/dataset/School-Nutrition-Programs-Contact-Information-and-/jezb-2499) and also represent the 2018-2019 academic year.<br>"
   ]
  },
  {
   "attachments": {},
   "cell_type": "markdown",
   "metadata": {},
   "source": [
    "## Data Import"
   ]
  },
  {
   "cell_type": "code",
   "execution_count": 31,
   "metadata": {},
   "outputs": [],
   "source": [
    "nerds_full = pd.read_csv(\"/Users/wratko/Documents/projects/tx-school_funding/data/essential-data/tx-nerds-2018_19.csv\")\n",
    "ed_full = pd.read_csv(\"/Users/wratko/Documents/projects/tx-school_funding/data/essential-data/tx-sch_lunch-2018-19.csv\")"
   ]
  },
  {
   "attachments": {},
   "cell_type": "markdown",
   "metadata": {},
   "source": [
    "*Personal Note:* At this point I need to better understand how to inspect these data sets to make sure the join is done properly. I did a lot of seemingly time-consuming cleaning of these data in Excel. I wonder if there is a faster way to do it in Python with pandas. "
   ]
  },
  {
   "attachments": {},
   "cell_type": "markdown",
   "metadata": {},
   "source": [
    "Merge the two dataframes into one on the district and school names:"
   ]
  },
  {
   "cell_type": "code",
   "execution_count": 32,
   "metadata": {},
   "outputs": [],
   "source": [
    "complete_data = pd.merge(nerds_full, ed_full, on=['distid', 'schoolname'])"
   ]
  },
  {
   "attachments": {},
   "cell_type": "markdown",
   "metadata": {},
   "source": [
    "Save that file to a csv:"
   ]
  },
  {
   "cell_type": "code",
   "execution_count": 33,
   "metadata": {},
   "outputs": [],
   "source": [
    "complete_data.to_csv(\"/Users/wratko/Documents/projects/tx-school_funding/data_output/complete_data.csv\")"
   ]
  },
  {
   "attachments": {},
   "cell_type": "markdown",
   "metadata": {},
   "source": [
    "Now let's see our Districts just to make sure we got them all:"
   ]
  },
  {
   "cell_type": "code",
   "execution_count": 35,
   "metadata": {},
   "outputs": [
    {
     "data": {
      "text/html": [
       "<div>\n",
       "<style scoped>\n",
       "    .dataframe tbody tr th:only-of-type {\n",
       "        vertical-align: middle;\n",
       "    }\n",
       "\n",
       "    .dataframe tbody tr th {\n",
       "        vertical-align: top;\n",
       "    }\n",
       "\n",
       "    .dataframe thead th {\n",
       "        text-align: right;\n",
       "    }\n",
       "</style>\n",
       "<table border=\"1\" class=\"dataframe\">\n",
       "  <thead>\n",
       "    <tr style=\"text-align: right;\">\n",
       "      <th></th>\n",
       "      <th>distid</th>\n",
       "      <th>schoolid_stateassigned</th>\n",
       "      <th>distname_x</th>\n",
       "      <th>schoolname</th>\n",
       "      <th>enroll_raw_TX</th>\n",
       "      <th>pp_stloc_raw_TX</th>\n",
       "      <th>CEID</th>\n",
       "      <th>distname_y</th>\n",
       "      <th>SiteID</th>\n",
       "      <th>CECounty</th>\n",
       "      <th>SiteCounty</th>\n",
       "      <th>SiteISP</th>\n",
       "    </tr>\n",
       "  </thead>\n",
       "  <tbody>\n",
       "    <tr>\n",
       "      <th>0</th>\n",
       "      <td>15901</td>\n",
       "      <td>15901001</td>\n",
       "      <td>ALAMO HEIGHTS ISD</td>\n",
       "      <td>ALAMO HEIGHTS H S</td>\n",
       "      <td>1601</td>\n",
       "      <td>9512.974233</td>\n",
       "      <td>78</td>\n",
       "      <td>ALAMO HEIGHTS ISD</td>\n",
       "      <td>1</td>\n",
       "      <td>BEXAR</td>\n",
       "      <td>BEXAR</td>\n",
       "      <td>19.15</td>\n",
       "    </tr>\n",
       "    <tr>\n",
       "      <th>1</th>\n",
       "      <td>15901</td>\n",
       "      <td>15901041</td>\n",
       "      <td>ALAMO HEIGHTS ISD</td>\n",
       "      <td>ALAMO HEIGHTS J H</td>\n",
       "      <td>1121</td>\n",
       "      <td>8145.541174</td>\n",
       "      <td>78</td>\n",
       "      <td>ALAMO HEIGHTS ISD</td>\n",
       "      <td>41</td>\n",
       "      <td>BEXAR</td>\n",
       "      <td>BEXAR</td>\n",
       "      <td>22.47</td>\n",
       "    </tr>\n",
       "    <tr>\n",
       "      <th>2</th>\n",
       "      <td>15901</td>\n",
       "      <td>15901101</td>\n",
       "      <td>ALAMO HEIGHTS ISD</td>\n",
       "      <td>CAMBRIDGE EL</td>\n",
       "      <td>836</td>\n",
       "      <td>8850.318342</td>\n",
       "      <td>78</td>\n",
       "      <td>ALAMO HEIGHTS ISD</td>\n",
       "      <td>101</td>\n",
       "      <td>BEXAR</td>\n",
       "      <td>BEXAR</td>\n",
       "      <td>24.48</td>\n",
       "    </tr>\n",
       "    <tr>\n",
       "      <th>3</th>\n",
       "      <td>15901</td>\n",
       "      <td>15901102</td>\n",
       "      <td>ALAMO HEIGHTS ISD</td>\n",
       "      <td>HOWARD EL</td>\n",
       "      <td>399</td>\n",
       "      <td>10274.96023</td>\n",
       "      <td>78</td>\n",
       "      <td>ALAMO HEIGHTS ISD</td>\n",
       "      <td>102</td>\n",
       "      <td>BEXAR</td>\n",
       "      <td>BEXAR</td>\n",
       "      <td>30.13</td>\n",
       "    </tr>\n",
       "    <tr>\n",
       "      <th>4</th>\n",
       "      <td>15901</td>\n",
       "      <td>15901104</td>\n",
       "      <td>ALAMO HEIGHTS ISD</td>\n",
       "      <td>WOODRIDGE EL</td>\n",
       "      <td>886</td>\n",
       "      <td>8472.334459</td>\n",
       "      <td>78</td>\n",
       "      <td>ALAMO HEIGHTS ISD</td>\n",
       "      <td>104</td>\n",
       "      <td>BEXAR</td>\n",
       "      <td>BEXAR</td>\n",
       "      <td>21.97</td>\n",
       "    </tr>\n",
       "  </tbody>\n",
       "</table>\n",
       "</div>"
      ],
      "text/plain": [
       "   distid  schoolid_stateassigned         distname_x         schoolname  \\\n",
       "0   15901                15901001  ALAMO HEIGHTS ISD  ALAMO HEIGHTS H S   \n",
       "1   15901                15901041  ALAMO HEIGHTS ISD  ALAMO HEIGHTS J H   \n",
       "2   15901                15901101  ALAMO HEIGHTS ISD       CAMBRIDGE EL   \n",
       "3   15901                15901102  ALAMO HEIGHTS ISD          HOWARD EL   \n",
       "4   15901                15901104  ALAMO HEIGHTS ISD       WOODRIDGE EL   \n",
       "\n",
       "  enroll_raw_TX pp_stloc_raw_TX  CEID         distname_y  SiteID CECounty  \\\n",
       "0          1601     9512.974233    78  ALAMO HEIGHTS ISD       1    BEXAR   \n",
       "1          1121     8145.541174    78  ALAMO HEIGHTS ISD      41    BEXAR   \n",
       "2           836     8850.318342    78  ALAMO HEIGHTS ISD     101    BEXAR   \n",
       "3           399     10274.96023    78  ALAMO HEIGHTS ISD     102    BEXAR   \n",
       "4           886     8472.334459    78  ALAMO HEIGHTS ISD     104    BEXAR   \n",
       "\n",
       "  SiteCounty  SiteISP  \n",
       "0      BEXAR    19.15  \n",
       "1      BEXAR    22.47  \n",
       "2      BEXAR    24.48  \n",
       "3      BEXAR    30.13  \n",
       "4      BEXAR    21.97  "
      ]
     },
     "execution_count": 35,
     "metadata": {},
     "output_type": "execute_result"
    }
   ],
   "source": [
    "complete_data.head()"
   ]
  },
  {
   "cell_type": "code",
   "execution_count": 38,
   "metadata": {},
   "outputs": [
    {
     "name": "stdout",
     "output_type": "stream",
     "text": [
      "['ALAMO HEIGHTS ISD' 'BOERNE ISD' 'COMAL ISD' 'EAST CENTRAL ISD'\n",
      " 'FT SAM HOUSTON ISD' 'HARLANDALE ISD' 'JUDSON ISD' 'LACKLAND ISD'\n",
      " 'MEDINA VALLEY ISD' 'NORTH EAST ISD' 'NORTHSIDE ISD' 'SAN ANTONIO ISD'\n",
      " 'SCHERTZ-CIBOLO-U CITY ISD' 'SOUTH SAN ANTONIO ISD' 'SOUTHSIDE ISD'\n",
      " 'SOUTHWEST ISD']\n"
     ]
    }
   ],
   "source": [
    "unique_distname_y = complete_data[\"distname_x\"].unique()\n",
    "print(unique_distname_y)"
   ]
  },
  {
   "attachments": {},
   "cell_type": "markdown",
   "metadata": {},
   "source": [
    "So we were missing four: \n",
    "- Edgewood ISD (not in `ed_full`)\n",
    "- Northside—San Antonio\n",
    "- Randolph Field\n",
    "- Somerset\n",
    "<br><br>\n",
    "\n",
    "I changed to using the `distid` field and two things happened:\n",
    "- I ended up with two `distname` fields (_x and _y), and \n",
    "- I'm still missing *Edgewood*, *Randolph Field*, and *Somerset*. "
   ]
  },
  {
   "cell_type": "code",
   "execution_count": null,
   "metadata": {},
   "outputs": [],
   "source": [
    "edgewood = ed_full.query(\"distname == 'EDGEWOOD ISD'\")\n",
    "print(edgewood)"
   ]
  },
  {
   "cell_type": "markdown",
   "metadata": {},
   "source": []
  }
 ],
 "metadata": {
  "kernelspec": {
   "display_name": "base",
   "language": "python",
   "name": "python3"
  },
  "language_info": {
   "codemirror_mode": {
    "name": "ipython",
    "version": 3
   },
   "file_extension": ".py",
   "mimetype": "text/x-python",
   "name": "python",
   "nbconvert_exporter": "python",
   "pygments_lexer": "ipython3",
   "version": "3.9.12"
  },
  "orig_nbformat": 4,
  "vscode": {
   "interpreter": {
    "hash": "23c9b771267491a6d8b0211014be734acb79cef3e9f9f53b1bbe656671aa7312"
   }
  }
 },
 "nbformat": 4,
 "nbformat_minor": 2
}
