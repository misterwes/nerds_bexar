{
 "cells": [
  {
   "attachments": {},
   "cell_type": "markdown",
   "metadata": {},
   "source": [
    "# NERDS Data Analysis with Python and Pandas"
   ]
  },
  {
   "cell_type": "code",
   "execution_count": 42,
   "metadata": {},
   "outputs": [],
   "source": [
    "import pandas as pd\n",
    "import numpy as np"
   ]
  },
  {
   "attachments": {},
   "cell_type": "markdown",
   "metadata": {},
   "source": [
    "This project is intended to gauge whether there are funding discrepancies within Bexar County Independent School Districts when it comes to per-pupil spending and economic disadvantage rates. If a discrepancy is detected (low correlation coefficient…threshold TBD…or there are outlier schools on the resulting scatterplot, we can work with an education reporter to investigate further. <br>\n",
    "The data come from two sources: \n",
    "- The NERD$ data come from Georgetown University's [National Education Resource Database on School Spending Organization](https://georgetown.app.box.com/s/1dknmu4bjltrehzdygh63xnzebcki4ni/file/1060770984817) and represent the 2018-2019 academic year. <br>\n",
    "- The Economic Disadvantage Data comes from [Square Meals.org](https://data.texas.gov/dataset/School-Nutrition-Programs-Contact-Information-and-/jezb-2499) and also represent the 2018-2019 academic year.<br>"
   ]
  },
  {
   "attachments": {},
   "cell_type": "markdown",
   "metadata": {},
   "source": [
    "## Data Import"
   ]
  },
  {
   "cell_type": "code",
   "execution_count": 43,
   "metadata": {},
   "outputs": [],
   "source": [
    "nerds_full = pd.read_csv(\"/Users/wratko/Documents/projects/tx-school_funding/jupyter-notebooks/essential-data/tx-nerds-2018_19.csv\")\n",
    "ed_full = pd.read_csv(\"/Users/wratko/Documents/projects/tx-school_funding/jupyter-notebooks/essential-data/tx-sch_lunch-2018-19.csv\")"
   ]
  },
  {
   "attachments": {},
   "cell_type": "markdown",
   "metadata": {},
   "source": [
    "Merge the two dataframes into one on the district and school names:"
   ]
  },
  {
   "cell_type": "code",
   "execution_count": 46,
   "metadata": {},
   "outputs": [],
   "source": [
    "complete_data = pd.merge(nerds_full, ed_full, on=['distid', 'schoolname'])"
   ]
  },
  {
   "cell_type": "code",
   "execution_count": 53,
   "metadata": {},
   "outputs": [],
   "source": [
    "dist_only = pd.merge(nerds_full, ed_full, on='distid')"
   ]
  },
  {
   "cell_type": "code",
   "execution_count": 55,
   "metadata": {},
   "outputs": [
    {
     "data": {
      "text/html": [
       "<div>\n",
       "<style scoped>\n",
       "    .dataframe tbody tr th:only-of-type {\n",
       "        vertical-align: middle;\n",
       "    }\n",
       "\n",
       "    .dataframe tbody tr th {\n",
       "        vertical-align: top;\n",
       "    }\n",
       "\n",
       "    .dataframe thead th {\n",
       "        text-align: right;\n",
       "    }\n",
       "</style>\n",
       "<table border=\"1\" class=\"dataframe\">\n",
       "  <thead>\n",
       "    <tr style=\"text-align: right;\">\n",
       "      <th></th>\n",
       "      <th>distid</th>\n",
       "      <th>schoolid_stateassigned</th>\n",
       "      <th>distname_x</th>\n",
       "      <th>schoolname_x</th>\n",
       "      <th>enroll_raw_TX</th>\n",
       "      <th>pp_stloc_raw_TX</th>\n",
       "      <th>CEID</th>\n",
       "      <th>distname_y</th>\n",
       "      <th>SiteID</th>\n",
       "      <th>schoolname_y</th>\n",
       "      <th>CECounty</th>\n",
       "      <th>SiteCounty</th>\n",
       "      <th>SiteISP</th>\n",
       "    </tr>\n",
       "  </thead>\n",
       "  <tbody>\n",
       "    <tr>\n",
       "      <th>33856</th>\n",
       "      <td>15912</td>\n",
       "      <td>15912102</td>\n",
       "      <td>SOUTHWEST ISD</td>\n",
       "      <td>SUN VALLEY EL</td>\n",
       "      <td>612</td>\n",
       "      <td>8254.138497</td>\n",
       "      <td>87</td>\n",
       "      <td>SOUTHWEST ISD</td>\n",
       "      <td>110</td>\n",
       "      <td>SPICEWOOD PARK ELEMENTARHY</td>\n",
       "      <td>BEXAR</td>\n",
       "      <td>BEXAR</td>\n",
       "      <td>75.52</td>\n",
       "    </tr>\n",
       "    <tr>\n",
       "      <th>33857</th>\n",
       "      <td>15912</td>\n",
       "      <td>15912102</td>\n",
       "      <td>SOUTHWEST ISD</td>\n",
       "      <td>SUN VALLEY EL</td>\n",
       "      <td>612</td>\n",
       "      <td>8254.138497</td>\n",
       "      <td>87</td>\n",
       "      <td>SOUTHWEST ISD</td>\n",
       "      <td>6</td>\n",
       "      <td>CAST STEM HIGH SCHOOL</td>\n",
       "      <td>BEXAR</td>\n",
       "      <td>BEXAR</td>\n",
       "      <td>NaN</td>\n",
       "    </tr>\n",
       "    <tr>\n",
       "      <th>33858</th>\n",
       "      <td>15912</td>\n",
       "      <td>15912102</td>\n",
       "      <td>SOUTHWEST ISD</td>\n",
       "      <td>SUN VALLEY EL</td>\n",
       "      <td>612</td>\n",
       "      <td>8254.138497</td>\n",
       "      <td>87</td>\n",
       "      <td>SOUTHWEST ISD</td>\n",
       "      <td>103</td>\n",
       "      <td>INDIAN CREEK EL</td>\n",
       "      <td>BEXAR</td>\n",
       "      <td>BEXAR</td>\n",
       "      <td>78.05</td>\n",
       "    </tr>\n",
       "    <tr>\n",
       "      <th>33859</th>\n",
       "      <td>15912</td>\n",
       "      <td>15912102</td>\n",
       "      <td>SOUTHWEST ISD</td>\n",
       "      <td>SUN VALLEY EL</td>\n",
       "      <td>612</td>\n",
       "      <td>8254.138497</td>\n",
       "      <td>87</td>\n",
       "      <td>SOUTHWEST ISD</td>\n",
       "      <td>111</td>\n",
       "      <td>MEDIO CREEK ELEMENTARY</td>\n",
       "      <td>BEXAR</td>\n",
       "      <td>BEXAR</td>\n",
       "      <td>69.09</td>\n",
       "    </tr>\n",
       "    <tr>\n",
       "      <th>33860</th>\n",
       "      <td>15912</td>\n",
       "      <td>15912102</td>\n",
       "      <td>SOUTHWEST ISD</td>\n",
       "      <td>SUN VALLEY EL</td>\n",
       "      <td>612</td>\n",
       "      <td>8254.138497</td>\n",
       "      <td>87</td>\n",
       "      <td>SOUTHWEST ISD</td>\n",
       "      <td>107</td>\n",
       "      <td>BIG COUNTRY EL</td>\n",
       "      <td>BEXAR</td>\n",
       "      <td>BEXAR</td>\n",
       "      <td>47.81</td>\n",
       "    </tr>\n",
       "  </tbody>\n",
       "</table>\n",
       "</div>"
      ],
      "text/plain": [
       "       distid  schoolid_stateassigned     distname_x   schoolname_x  \\\n",
       "33856   15912                15912102  SOUTHWEST ISD  SUN VALLEY EL   \n",
       "33857   15912                15912102  SOUTHWEST ISD  SUN VALLEY EL   \n",
       "33858   15912                15912102  SOUTHWEST ISD  SUN VALLEY EL   \n",
       "33859   15912                15912102  SOUTHWEST ISD  SUN VALLEY EL   \n",
       "33860   15912                15912102  SOUTHWEST ISD  SUN VALLEY EL   \n",
       "\n",
       "      enroll_raw_TX pp_stloc_raw_TX  CEID     distname_y  SiteID  \\\n",
       "33856           612     8254.138497    87  SOUTHWEST ISD     110   \n",
       "33857           612     8254.138497    87  SOUTHWEST ISD       6   \n",
       "33858           612     8254.138497    87  SOUTHWEST ISD     103   \n",
       "33859           612     8254.138497    87  SOUTHWEST ISD     111   \n",
       "33860           612     8254.138497    87  SOUTHWEST ISD     107   \n",
       "\n",
       "                     schoolname_y CECounty SiteCounty  SiteISP  \n",
       "33856  SPICEWOOD PARK ELEMENTARHY    BEXAR      BEXAR    75.52  \n",
       "33857       CAST STEM HIGH SCHOOL    BEXAR      BEXAR      NaN  \n",
       "33858             INDIAN CREEK EL    BEXAR      BEXAR    78.05  \n",
       "33859      MEDIO CREEK ELEMENTARY    BEXAR      BEXAR    69.09  \n",
       "33860              BIG COUNTRY EL    BEXAR      BEXAR    47.81  "
      ]
     },
     "execution_count": 55,
     "metadata": {},
     "output_type": "execute_result"
    }
   ],
   "source": [
    "dist_only.tail()"
   ]
  },
  {
   "cell_type": "code",
   "execution_count": 56,
   "metadata": {},
   "outputs": [],
   "source": [
    "dist_only.to_csv(\"/Users/wratko/Documents/projects/tx-school_funding/data_output/test-distonly.csv\")"
   ]
  },
  {
   "attachments": {},
   "cell_type": "markdown",
   "metadata": {},
   "source": [
    "Save that file to a csv:"
   ]
  },
  {
   "cell_type": "code",
   "execution_count": 47,
   "metadata": {},
   "outputs": [],
   "source": [
    "complete_data.to_csv(\"/Users/wratko/Documents/projects/tx-school_funding/data_output/complete_data.csv\")"
   ]
  },
  {
   "attachments": {},
   "cell_type": "markdown",
   "metadata": {},
   "source": [
    "Now let's see our Districts just to make sure we got them all:"
   ]
  },
  {
   "cell_type": "code",
   "execution_count": null,
   "metadata": {},
   "outputs": [],
   "source": [
    "complete_data.head()"
   ]
  },
  {
   "cell_type": "code",
   "execution_count": 59,
   "metadata": {},
   "outputs": [
    {
     "name": "stdout",
     "output_type": "stream",
     "text": [
      "[ 15901 130901  46902  15911  15914  15904  15916  15913 163908  15910\n",
      "  15915  15907  94902  15908  15917  15912]\n"
     ]
    }
   ],
   "source": [
    "unique_distid = complete_data[\"distid\"].unique()\n",
    "print(unique_distid)"
   ]
  },
  {
   "cell_type": "code",
   "execution_count": 49,
   "metadata": {},
   "outputs": [
    {
     "name": "stdout",
     "output_type": "stream",
     "text": [
      "['ALAMO HEIGHTS ISD' 'BOERNE ISD' 'COMAL ISD' 'EAST CENTRAL ISD'\n",
      " 'FT SAM HOUSTON ISD' 'HARLANDALE ISD' 'JUDSON ISD' 'LACKLAND ISD'\n",
      " 'MEDINA VALLEY ISD' 'NORTH EAST ISD' 'NORTHSIDE ISD-SAN ANTONIO'\n",
      " 'SAN ANTONIO ISD' 'SCHERTZ-CIBOLO-U CITY ISD' 'SOUTH SAN ANTONIO ISD'\n",
      " 'SOUTHSIDE ISD' 'SOUTHWEST ISD']\n"
     ]
    }
   ],
   "source": [
    "unique_distname_y = complete_data[\"distname_y\"].unique()\n",
    "print(unique_distname_y)"
   ]
  },
  {
   "attachments": {},
   "cell_type": "markdown",
   "metadata": {},
   "source": [
    "Here we're going to break out the 19 districts out into their own data frames for analysis."
   ]
  },
  {
   "cell_type": "code",
   "execution_count": 58,
   "metadata": {},
   "outputs": [],
   "source": [
    "alamo_heights = complete_data[complete_data.distid==15901]\n",
    "# boerne\n",
    "# comal\n",
    "# east_central\n",
    "# ft_sam_houston\n",
    "# harlandale\n",
    "# judson\n",
    "# lackland\n",
    "# medina_valley\n",
    "# north_east\n",
    "# northside\n",
    "# san_antonio\n",
    "# scherz_cibolo\n",
    "# south_san_antonio\n",
    "# southside\n",
    "# southwest\n"
   ]
  },
  {
   "cell_type": "code",
   "execution_count": null,
   "metadata": {},
   "outputs": [],
   "source": []
  }
 ],
 "metadata": {
  "kernelspec": {
   "display_name": "base",
   "language": "python",
   "name": "python3"
  },
  "language_info": {
   "codemirror_mode": {
    "name": "ipython",
    "version": 3
   },
   "file_extension": ".py",
   "mimetype": "text/x-python",
   "name": "python",
   "nbconvert_exporter": "python",
   "pygments_lexer": "ipython3",
   "version": "3.9.12"
  },
  "orig_nbformat": 4,
  "vscode": {
   "interpreter": {
    "hash": "23c9b771267491a6d8b0211014be734acb79cef3e9f9f53b1bbe656671aa7312"
   }
  }
 },
 "nbformat": 4,
 "nbformat_minor": 2
}
